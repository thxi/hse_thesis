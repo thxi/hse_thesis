{
 "cells": [
  {
   "cell_type": "code",
   "execution_count": 1,
   "id": "45d064e4-777a-412a-88a0-e3483a73e903",
   "metadata": {
    "execution": {
     "iopub.execute_input": "2022-03-31T18:34:57.767470Z",
     "iopub.status.busy": "2022-03-31T18:34:57.767131Z",
     "iopub.status.idle": "2022-03-31T18:34:57.795613Z",
     "shell.execute_reply": "2022-03-31T18:34:57.794941Z",
     "shell.execute_reply.started": "2022-03-31T18:34:57.767389Z"
    },
    "tags": []
   },
   "outputs": [],
   "source": [
    "%load_ext autoreload\n",
    "%autoreload 2\n",
    "\n",
    "# add modules from parent package\n",
    "import sys\n",
    "sys.path.append('..')"
   ]
  },
  {
   "cell_type": "code",
   "execution_count": 2,
   "id": "3a1f0877-911b-498c-bf73-43a2cd6bdcaa",
   "metadata": {
    "execution": {
     "iopub.execute_input": "2022-03-31T18:34:58.204350Z",
     "iopub.status.busy": "2022-03-31T18:34:58.203945Z",
     "iopub.status.idle": "2022-03-31T18:35:00.527416Z",
     "shell.execute_reply": "2022-03-31T18:35:00.526822Z",
     "shell.execute_reply.started": "2022-03-31T18:34:58.204289Z"
    },
    "tags": []
   },
   "outputs": [],
   "source": [
    "import pandas as pd\n",
    "import numpy as np\n",
    "import seaborn as sns\n",
    "import matplotlib.pyplot as plt\n",
    "\n",
    "from tqdm.auto import tqdm"
   ]
  },
  {
   "cell_type": "markdown",
   "id": "0aa147f7-81ae-490b-9641-b377df628aec",
   "metadata": {},
   "source": [
    "## Data"
   ]
  },
  {
   "cell_type": "markdown",
   "id": "254fb8bb-8832-400b-8807-a040386fc58f",
   "metadata": {
    "execution": {
     "iopub.execute_input": "2022-03-31T18:35:04.513441Z",
     "iopub.status.busy": "2022-03-31T18:35:04.513133Z",
     "iopub.status.idle": "2022-03-31T18:35:04.545784Z",
     "shell.execute_reply": "2022-03-31T18:35:04.544326Z",
     "shell.execute_reply.started": "2022-03-31T18:35:04.513410Z"
    }
   },
   "source": [
    "brazilian dataset https://www.kaggle.com/datasets/olistbr/brazilian-ecommerce"
   ]
  },
  {
   "cell_type": "code",
   "execution_count": 5,
   "id": "f85df504-9868-4a1f-b899-c5897c7c011e",
   "metadata": {
    "execution": {
     "iopub.execute_input": "2022-03-31T18:37:53.596724Z",
     "iopub.status.busy": "2022-03-31T18:37:53.596306Z",
     "iopub.status.idle": "2022-03-31T18:37:53.631541Z",
     "shell.execute_reply": "2022-03-31T18:37:53.630849Z",
     "shell.execute_reply.started": "2022-03-31T18:37:53.596681Z"
    }
   },
   "outputs": [],
   "source": [
    "import os"
   ]
  },
  {
   "cell_type": "code",
   "execution_count": 6,
   "id": "efd11b97-d31c-4259-9f4d-f41296cd76e4",
   "metadata": {
    "execution": {
     "iopub.execute_input": "2022-03-31T18:38:28.128396Z",
     "iopub.status.busy": "2022-03-31T18:38:28.128145Z",
     "iopub.status.idle": "2022-03-31T18:38:28.156971Z",
     "shell.execute_reply": "2022-03-31T18:38:28.156391Z",
     "shell.execute_reply.started": "2022-03-31T18:38:28.128374Z"
    },
    "tags": []
   },
   "outputs": [],
   "source": [
    "base_dir = '../data/brazil/'"
   ]
  },
  {
   "cell_type": "code",
   "execution_count": 19,
   "id": "f0802738-968c-4dfd-8dad-9fc0cc1c81c8",
   "metadata": {
    "execution": {
     "iopub.execute_input": "2022-03-31T18:42:18.848875Z",
     "iopub.status.busy": "2022-03-31T18:42:18.848569Z",
     "iopub.status.idle": "2022-03-31T18:42:19.077246Z",
     "shell.execute_reply": "2022-03-31T18:42:19.076375Z",
     "shell.execute_reply.started": "2022-03-31T18:42:18.848839Z"
    },
    "tags": []
   },
   "outputs": [],
   "source": [
    "orders_path = os.path.join(base_dir, 'olist_order_items_dataset.csv')\n",
    "order_items = pd.read_csv(orders_path)"
   ]
  },
  {
   "cell_type": "code",
   "execution_count": 22,
   "id": "5009aa02-8f3e-4736-85b6-0db6cde1aeda",
   "metadata": {
    "execution": {
     "iopub.execute_input": "2022-03-31T18:42:41.944334Z",
     "iopub.status.busy": "2022-03-31T18:42:41.943979Z",
     "iopub.status.idle": "2022-03-31T18:42:42.302720Z",
     "shell.execute_reply": "2022-03-31T18:42:42.301984Z",
     "shell.execute_reply.started": "2022-03-31T18:42:41.944294Z"
    },
    "tags": []
   },
   "outputs": [],
   "source": [
    "orders_path = os.path.join(base_dir, 'olist_orders_dataset.csv')\n",
    "orders = pd.read_csv(orders_path)"
   ]
  },
  {
   "cell_type": "code",
   "execution_count": 20,
   "id": "534c0493-5932-46fb-b83b-cf364cfd89ce",
   "metadata": {
    "execution": {
     "iopub.execute_input": "2022-03-31T18:42:21.724824Z",
     "iopub.status.busy": "2022-03-31T18:42:21.724605Z",
     "iopub.status.idle": "2022-03-31T18:42:21.768400Z",
     "shell.execute_reply": "2022-03-31T18:42:21.767800Z",
     "shell.execute_reply.started": "2022-03-31T18:42:21.724806Z"
    },
    "tags": []
   },
   "outputs": [
    {
     "data": {
      "text/html": [
       "<div>\n",
       "<style scoped>\n",
       "    .dataframe tbody tr th:only-of-type {\n",
       "        vertical-align: middle;\n",
       "    }\n",
       "\n",
       "    .dataframe tbody tr th {\n",
       "        vertical-align: top;\n",
       "    }\n",
       "\n",
       "    .dataframe thead th {\n",
       "        text-align: right;\n",
       "    }\n",
       "</style>\n",
       "<table border=\"1\" class=\"dataframe\">\n",
       "  <thead>\n",
       "    <tr style=\"text-align: right;\">\n",
       "      <th></th>\n",
       "      <th>order_id</th>\n",
       "      <th>order_item_id</th>\n",
       "      <th>product_id</th>\n",
       "      <th>seller_id</th>\n",
       "      <th>shipping_limit_date</th>\n",
       "      <th>price</th>\n",
       "      <th>freight_value</th>\n",
       "    </tr>\n",
       "  </thead>\n",
       "  <tbody>\n",
       "    <tr>\n",
       "      <th>0</th>\n",
       "      <td>00010242fe8c5a6d1ba2dd792cb16214</td>\n",
       "      <td>1</td>\n",
       "      <td>4244733e06e7ecb4970a6e2683c13e61</td>\n",
       "      <td>48436dade18ac8b2bce089ec2a041202</td>\n",
       "      <td>2017-09-19 09:45:35</td>\n",
       "      <td>58.90</td>\n",
       "      <td>13.29</td>\n",
       "    </tr>\n",
       "    <tr>\n",
       "      <th>1</th>\n",
       "      <td>00018f77f2f0320c557190d7a144bdd3</td>\n",
       "      <td>1</td>\n",
       "      <td>e5f2d52b802189ee658865ca93d83a8f</td>\n",
       "      <td>dd7ddc04e1b6c2c614352b383efe2d36</td>\n",
       "      <td>2017-05-03 11:05:13</td>\n",
       "      <td>239.90</td>\n",
       "      <td>19.93</td>\n",
       "    </tr>\n",
       "    <tr>\n",
       "      <th>2</th>\n",
       "      <td>000229ec398224ef6ca0657da4fc703e</td>\n",
       "      <td>1</td>\n",
       "      <td>c777355d18b72b67abbeef9df44fd0fd</td>\n",
       "      <td>5b51032eddd242adc84c38acab88f23d</td>\n",
       "      <td>2018-01-18 14:48:30</td>\n",
       "      <td>199.00</td>\n",
       "      <td>17.87</td>\n",
       "    </tr>\n",
       "    <tr>\n",
       "      <th>3</th>\n",
       "      <td>00024acbcdf0a6daa1e931b038114c75</td>\n",
       "      <td>1</td>\n",
       "      <td>7634da152a4610f1595efa32f14722fc</td>\n",
       "      <td>9d7a1d34a5052409006425275ba1c2b4</td>\n",
       "      <td>2018-08-15 10:10:18</td>\n",
       "      <td>12.99</td>\n",
       "      <td>12.79</td>\n",
       "    </tr>\n",
       "    <tr>\n",
       "      <th>4</th>\n",
       "      <td>00042b26cf59d7ce69dfabb4e55b4fd9</td>\n",
       "      <td>1</td>\n",
       "      <td>ac6c3623068f30de03045865e4e10089</td>\n",
       "      <td>df560393f3a51e74553ab94004ba5c87</td>\n",
       "      <td>2017-02-13 13:57:51</td>\n",
       "      <td>199.90</td>\n",
       "      <td>18.14</td>\n",
       "    </tr>\n",
       "  </tbody>\n",
       "</table>\n",
       "</div>"
      ],
      "text/plain": [
       "                           order_id  order_item_id  \\\n",
       "0  00010242fe8c5a6d1ba2dd792cb16214              1   \n",
       "1  00018f77f2f0320c557190d7a144bdd3              1   \n",
       "2  000229ec398224ef6ca0657da4fc703e              1   \n",
       "3  00024acbcdf0a6daa1e931b038114c75              1   \n",
       "4  00042b26cf59d7ce69dfabb4e55b4fd9              1   \n",
       "\n",
       "                         product_id                         seller_id  \\\n",
       "0  4244733e06e7ecb4970a6e2683c13e61  48436dade18ac8b2bce089ec2a041202   \n",
       "1  e5f2d52b802189ee658865ca93d83a8f  dd7ddc04e1b6c2c614352b383efe2d36   \n",
       "2  c777355d18b72b67abbeef9df44fd0fd  5b51032eddd242adc84c38acab88f23d   \n",
       "3  7634da152a4610f1595efa32f14722fc  9d7a1d34a5052409006425275ba1c2b4   \n",
       "4  ac6c3623068f30de03045865e4e10089  df560393f3a51e74553ab94004ba5c87   \n",
       "\n",
       "   shipping_limit_date   price  freight_value  \n",
       "0  2017-09-19 09:45:35   58.90          13.29  \n",
       "1  2017-05-03 11:05:13  239.90          19.93  \n",
       "2  2018-01-18 14:48:30  199.00          17.87  \n",
       "3  2018-08-15 10:10:18   12.99          12.79  \n",
       "4  2017-02-13 13:57:51  199.90          18.14  "
      ]
     },
     "execution_count": 20,
     "metadata": {},
     "output_type": "execute_result"
    }
   ],
   "source": [
    "order_items.head()"
   ]
  },
  {
   "cell_type": "code",
   "execution_count": 21,
   "id": "f53a39c0-7134-4750-b4e1-401073e9dff6",
   "metadata": {
    "execution": {
     "iopub.execute_input": "2022-03-31T18:42:25.111438Z",
     "iopub.status.busy": "2022-03-31T18:42:25.111158Z",
     "iopub.status.idle": "2022-03-31T18:42:25.201743Z",
     "shell.execute_reply": "2022-03-31T18:42:25.201243Z",
     "shell.execute_reply.started": "2022-03-31T18:42:25.111407Z"
    },
    "tags": []
   },
   "outputs": [
    {
     "name": "stdout",
     "output_type": "stream",
     "text": [
      "<class 'pandas.core.frame.DataFrame'>\n",
      "RangeIndex: 112650 entries, 0 to 112649\n",
      "Data columns (total 7 columns):\n",
      " #   Column               Non-Null Count   Dtype  \n",
      "---  ------               --------------   -----  \n",
      " 0   order_id             112650 non-null  object \n",
      " 1   order_item_id        112650 non-null  int64  \n",
      " 2   product_id           112650 non-null  object \n",
      " 3   seller_id            112650 non-null  object \n",
      " 4   shipping_limit_date  112650 non-null  object \n",
      " 5   price                112650 non-null  float64\n",
      " 6   freight_value        112650 non-null  float64\n",
      "dtypes: float64(2), int64(1), object(4)\n",
      "memory usage: 6.0+ MB\n"
     ]
    }
   ],
   "source": [
    "order_items.info()"
   ]
  },
  {
   "cell_type": "code",
   "execution_count": 24,
   "id": "ace7651e-b900-412d-8c19-cf9540df4131",
   "metadata": {
    "execution": {
     "iopub.execute_input": "2022-03-31T18:43:00.618763Z",
     "iopub.status.busy": "2022-03-31T18:43:00.618421Z",
     "iopub.status.idle": "2022-03-31T18:43:00.672637Z",
     "shell.execute_reply": "2022-03-31T18:43:00.672045Z",
     "shell.execute_reply.started": "2022-03-31T18:43:00.618727Z"
    }
   },
   "outputs": [
    {
     "data": {
      "text/plain": [
       "98666"
      ]
     },
     "execution_count": 24,
     "metadata": {},
     "output_type": "execute_result"
    }
   ],
   "source": [
    "order_items.order_id.nunique()"
   ]
  },
  {
   "cell_type": "code",
   "execution_count": 23,
   "id": "8d637c38-734e-40f3-b3c6-2569fba3a64a",
   "metadata": {
    "execution": {
     "iopub.execute_input": "2022-03-31T18:42:44.844126Z",
     "iopub.status.busy": "2022-03-31T18:42:44.843921Z",
     "iopub.status.idle": "2022-03-31T18:42:44.877945Z",
     "shell.execute_reply": "2022-03-31T18:42:44.877357Z",
     "shell.execute_reply.started": "2022-03-31T18:42:44.844106Z"
    },
    "tags": []
   },
   "outputs": [
    {
     "data": {
      "text/plain": [
       "delivered      96478\n",
       "shipped         1107\n",
       "canceled         625\n",
       "unavailable      609\n",
       "invoiced         314\n",
       "processing       301\n",
       "created            5\n",
       "approved           2\n",
       "Name: order_status, dtype: int64"
      ]
     },
     "execution_count": 23,
     "metadata": {},
     "output_type": "execute_result"
    }
   ],
   "source": [
    "orders['order_status'].value_counts()"
   ]
  },
  {
   "cell_type": "code",
   "execution_count": 26,
   "id": "ec5bd0f5-e097-4a96-9fef-4b94b7fc01b5",
   "metadata": {
    "execution": {
     "iopub.execute_input": "2022-03-31T18:43:48.746251Z",
     "iopub.status.busy": "2022-03-31T18:43:48.746025Z",
     "iopub.status.idle": "2022-03-31T18:43:48.817909Z",
     "shell.execute_reply": "2022-03-31T18:43:48.817228Z",
     "shell.execute_reply.started": "2022-03-31T18:43:48.746223Z"
    },
    "tags": []
   },
   "outputs": [],
   "source": [
    "order_items['product_id'] = order_items['product_id'].astype('category')"
   ]
  },
  {
   "cell_type": "code",
   "execution_count": 32,
   "id": "5bde3cc6-5d65-4df9-9554-4d606c83b368",
   "metadata": {
    "execution": {
     "iopub.execute_input": "2022-03-31T18:44:23.370767Z",
     "iopub.status.busy": "2022-03-31T18:44:23.370513Z",
     "iopub.status.idle": "2022-03-31T18:44:23.400565Z",
     "shell.execute_reply": "2022-03-31T18:44:23.400015Z",
     "shell.execute_reply.started": "2022-03-31T18:44:23.370742Z"
    },
    "tags": []
   },
   "outputs": [
    {
     "data": {
      "text/plain": [
       "(32951, 112650, 29)"
      ]
     },
     "execution_count": 32,
     "metadata": {},
     "output_type": "execute_result"
    }
   ],
   "source": [
    "order_items['product_id'].nunique(), order_items.shape[0], round(100*order_items['product_id'].nunique()/ order_items.shape[0])"
   ]
  },
  {
   "cell_type": "code",
   "execution_count": 34,
   "id": "fe81eecd-ca01-4830-8a2a-b306a36ee9bd",
   "metadata": {
    "execution": {
     "iopub.execute_input": "2022-03-31T18:45:23.067039Z",
     "iopub.status.busy": "2022-03-31T18:45:23.066756Z",
     "iopub.status.idle": "2022-03-31T18:45:23.097250Z",
     "shell.execute_reply": "2022-03-31T18:45:23.096475Z",
     "shell.execute_reply.started": "2022-03-31T18:45:23.067007Z"
    },
    "tags": []
   },
   "outputs": [],
   "source": [
    "order_items['price_int'] = order_items['price'].astype(np.int32)"
   ]
  },
  {
   "cell_type": "code",
   "execution_count": 49,
   "id": "f2a06916-f793-4d0c-a088-8b752425b189",
   "metadata": {
    "execution": {
     "iopub.execute_input": "2022-03-31T18:49:03.438829Z",
     "iopub.status.busy": "2022-03-31T18:49:03.438538Z",
     "iopub.status.idle": "2022-03-31T18:49:04.493612Z",
     "shell.execute_reply": "2022-03-31T18:49:04.492875Z",
     "shell.execute_reply.started": "2022-03-31T18:49:03.438801Z"
    },
    "tags": []
   },
   "outputs": [
    {
     "data": {
      "image/png": "[encoded data removed]",
      "text/plain": [
       "<Figure size 864x432 with 2 Axes>"
      ]
     },
     "metadata": {
      "needs_background": "light"
     },
     "output_type": "display_data"
    }
   ],
   "source": [
    "fig, axs = plt.subplots(figsize=(12, 6))\n",
    "plt.subplot(1,2,1)\n",
    "sns.histplot(x='price', data=order_items, bins=100)\n",
    "plt.yscale('log')\n",
    "plt.subplot(1,2,2)\n",
    "sns.histplot(x='price', data=order_items[order_items['price'] < 3000], bins=60)\n",
    "plt.yscale('log')"
   ]
  },
  {
   "cell_type": "code",
   "execution_count": 38,
   "id": "e12de88d-843f-4921-b829-9114c976ce56",
   "metadata": {
    "execution": {
     "iopub.execute_input": "2022-03-31T18:46:21.687077Z",
     "iopub.status.busy": "2022-03-31T18:46:21.686804Z",
     "iopub.status.idle": "2022-03-31T18:46:21.722915Z",
     "shell.execute_reply": "2022-03-31T18:46:21.721574Z",
     "shell.execute_reply.started": "2022-03-31T18:46:21.687048Z"
    },
    "tags": []
   },
   "outputs": [
    {
     "data": {
      "text/plain": [
       "1069"
      ]
     },
     "execution_count": 38,
     "metadata": {},
     "output_type": "execute_result"
    }
   ],
   "source": [
    "order_items['price_int'].nunique()"
   ]
  },
  {
   "cell_type": "code",
   "execution_count": 57,
   "id": "5c40beea-732c-4668-bf90-d4c4ccbd284d",
   "metadata": {
    "execution": {
     "iopub.execute_input": "2022-03-31T18:51:38.549313Z",
     "iopub.status.busy": "2022-03-31T18:51:38.549039Z",
     "iopub.status.idle": "2022-03-31T18:51:38.595247Z",
     "shell.execute_reply": "2022-03-31T18:51:38.594513Z",
     "shell.execute_reply.started": "2022-03-31T18:51:38.549289Z"
    },
    "tags": []
   },
   "outputs": [],
   "source": [
    "product_prices = order_items.groupby(['product_id']).price_int.nunique().sort_values(ascending=False)"
   ]
  },
  {
   "cell_type": "code",
   "execution_count": null,
   "id": "b6c2e236-a201-45d0-94eb-ab1850aa7ba0",
   "metadata": {
    "execution": {
     "iopub.execute_input": "2022-03-31T18:51:49.847592Z",
     "iopub.status.busy": "2022-03-31T18:51:49.847361Z",
     "iopub.status.idle": "2022-03-31T18:51:49.875639Z",
     "shell.execute_reply": "2022-03-31T18:51:49.875045Z",
     "shell.execute_reply.started": "2022-03-31T18:51:49.847565Z"
    },
    "tags": []
   },
   "outputs": [
    {
     "data": {
      "text/plain": [
       "product_id\n",
       "e0d64dcfaa3b6db5c54ca298ae101d05    26\n",
       "d285360f29ac7fd97640bf0baef03de0    24\n",
       "69455f41626a745aea9ee9164cb9eafd    21\n",
       "6f3b5b605d91b7439c5e3f5a8dffeea7    21\n",
       "53b36df67ebb7c41585e8d54d6772e08    20\n",
       "461f43be3bdf8844e65b62d9ac2c7a5a    18\n",
       "f819f0c84a64f02d3a5606ca95edd272    17\n",
       "656e0eca68dcecf6a31b8ececfabe3e8    16\n",
       "e53e557d5a159f5aa2c5e995dfdf244b    15\n",
       "4298b7e67dc399c200662b569563a2b2    15\n",
       "53ea9da485f6aed8a6f03a85831fe021    14\n",
       "0a57f7d2c983bcf8188589a5fea4a8da    14\n",
       "d5991653e037ccb7af6ed7d94246b249    13\n",
       "4aa6014eceb682077f9dc4bffebc05b0    12\n",
       "7a10781637204d8d10485c71a6108a2e    12\n",
       "db5efde3ad0cc579b130d71c4b2db522    11\n",
       "f1c7f353075ce59d8a6f3cf58f419c9c    11\n",
       "3225c54bb2785c33f49f50398fcdb88c    11\n",
       "2ffdf10e724b958c0f7ea69e97d32f64    11\n",
       "73bcea88583002fe12b7399af4ae60da    11\n",
       "437c05a395e9e47f9762e677a7068ce7    11\n",
       "8317b177579dd27ff068b83205e2169b    11\n",
       "bce474cc95b6e77657e10939b0b4248c    10\n",
       "4fe644d766c7566dbc46fb851363cb3b    10\n",
       "d04e48982547095af81c231c3d581cb6    10\n",
       "41c24b8ce92d1a2cac62db5edfd088b2    10\n",
       "1a080577618e7fe4d9ddd8fb2b47a964    10\n",
       "9ddc4249779322828f89d2a9c04f7ee1    10\n",
       "31b8e7c2a22f3dba5183cc110bdd72f7    10\n",
       "20f160a9cf2e856ee5eba259e9ae33f9     9\n",
       "36f60d45225e60c7da4558b070ce4b60     9\n",
       "4520766ec412348b8d4caa5e8a18c464     9\n",
       "e59dd207c69d86e890febadc796d1078     9\n",
       "8c292ca193d326152e335d77176746f0     9\n",
       "8ed094bfe076c568f6bb10feada3f75d     9\n",
       "c1ad8ac66c91ad301cefc322ba2adf31     9\n",
       "d322eb25f02924adba73e58dbc36b29c     8\n",
       "0d85c435fd60b277ffb9e9b0f88f927a     8\n",
       "93a12c289ca2b78e7069e469f5053ef2     8\n",
       "af51d485dc5255ba2e18b21b550156e6     8\n",
       "f7740e5b4337a3cc4a8a204553101a85     8\n",
       "473795a355d29305c3ea6b156833adf5     8\n",
       "91c82ace62e0ca1b69b1a45bcc214b45     8\n",
       "363218ba55c610b750224f90bdd34be1     8\n",
       "2fea0f2cec6b6324a277d4a61c2ed2c6     8\n",
       "78119fbfa709d07b86f5ccf15043c6d6     8\n",
       "33fca9d59532dd4c191217a979346ab9     8\n",
       "628f5ed6c14790dcb9233c8dbf596175     8\n",
       "25c38557cf793876c5abdd5931f922db     8\n",
       "d6160fb7873f184099d9bc95e30376af     8\n",
       "Name: price_int, dtype: int64"
      ]
     },
     "execution_count": 61,
     "metadata": {},
     "output_type": "execute_result"
    }
   ],
   "source": [
    "product_prices[:50]"
   ]
  },
  {
   "cell_type": "code",
   "execution_count": 63,
   "id": "57ec9def-b17b-4fb1-a4e9-6c33f8d29206",
   "metadata": {
    "execution": {
     "iopub.execute_input": "2022-03-31T18:52:15.922384Z",
     "iopub.status.busy": "2022-03-31T18:52:15.922104Z",
     "iopub.status.idle": "2022-03-31T18:52:15.946989Z",
     "shell.execute_reply": "2022-03-31T18:52:15.946392Z",
     "shell.execute_reply.started": "2022-03-31T18:52:15.922357Z"
    },
    "tags": []
   },
   "outputs": [],
   "source": [
    "pid = 'e0d64dcfaa3b6db5c54ca298ae101d05'"
   ]
  },
  {
   "cell_type": "code",
   "execution_count": 66,
   "id": "acc914b7-0735-40be-8e47-7da0afb2a4b1",
   "metadata": {
    "execution": {
     "iopub.execute_input": "2022-03-31T18:52:32.963599Z",
     "iopub.status.busy": "2022-03-31T18:52:32.963331Z",
     "iopub.status.idle": "2022-03-31T18:52:32.993952Z",
     "shell.execute_reply": "2022-03-31T18:52:32.993207Z",
     "shell.execute_reply.started": "2022-03-31T18:52:32.963566Z"
    },
    "tags": []
   },
   "outputs": [],
   "source": [
    "df = order_items[order_items.product_id == pid]"
   ]
  },
  {
   "cell_type": "code",
   "execution_count": 68,
   "id": "eb3a0019-1525-498f-8ab4-3f6bcca9acbf",
   "metadata": {
    "execution": {
     "iopub.execute_input": "2022-03-31T18:52:38.617418Z",
     "iopub.status.busy": "2022-03-31T18:52:38.617196Z",
     "iopub.status.idle": "2022-03-31T18:52:38.643879Z",
     "shell.execute_reply": "2022-03-31T18:52:38.643227Z",
     "shell.execute_reply.started": "2022-03-31T18:52:38.617392Z"
    }
   },
   "outputs": [
    {
     "data": {
      "text/plain": [
       "(194, 8)"
      ]
     },
     "execution_count": 68,
     "metadata": {},
     "output_type": "execute_result"
    }
   ],
   "source": [
    "df.shape"
   ]
  },
  {
   "cell_type": "code",
   "execution_count": 67,
   "id": "bff9540c-9f6d-4d62-b71b-de97d994bbaa",
   "metadata": {
    "execution": {
     "iopub.execute_input": "2022-03-31T18:52:35.469011Z",
     "iopub.status.busy": "2022-03-31T18:52:35.468261Z",
     "iopub.status.idle": "2022-03-31T18:52:35.507646Z",
     "shell.execute_reply": "2022-03-31T18:52:35.506820Z",
     "shell.execute_reply.started": "2022-03-31T18:52:35.468978Z"
    }
   },
   "outputs": [
    {
     "data": {
      "text/html": [
       "<div>\n",
       "<style scoped>\n",
       "    .dataframe tbody tr th:only-of-type {\n",
       "        vertical-align: middle;\n",
       "    }\n",
       "\n",
       "    .dataframe tbody tr th {\n",
       "        vertical-align: top;\n",
       "    }\n",
       "\n",
       "    .dataframe thead th {\n",
       "        text-align: right;\n",
       "    }\n",
       "</style>\n",
       "<table border=\"1\" class=\"dataframe\">\n",
       "  <thead>\n",
       "    <tr style=\"text-align: right;\">\n",
       "      <th></th>\n",
       "      <th>order_id</th>\n",
       "      <th>order_item_id</th>\n",
       "      <th>product_id</th>\n",
       "      <th>seller_id</th>\n",
       "      <th>shipping_limit_date</th>\n",
       "      <th>price</th>\n",
       "      <th>freight_value</th>\n",
       "      <th>price_int</th>\n",
       "    </tr>\n",
       "  </thead>\n",
       "  <tbody>\n",
       "    <tr>\n",
       "      <th>276</th>\n",
       "      <td>00b2d2f2b5f7b98e6b1828764660134e</td>\n",
       "      <td>1</td>\n",
       "      <td>e0d64dcfaa3b6db5c54ca298ae101d05</td>\n",
       "      <td>7d13fca15225358621be4086e1eb0964</td>\n",
       "      <td>2018-08-20 08:50:19</td>\n",
       "      <td>146.01</td>\n",
       "      <td>13.68</td>\n",
       "      <td>146</td>\n",
       "    </tr>\n",
       "    <tr>\n",
       "      <th>1555</th>\n",
       "      <td>03953c6f8f398530d8847bf6000ffa78</td>\n",
       "      <td>1</td>\n",
       "      <td>e0d64dcfaa3b6db5c54ca298ae101d05</td>\n",
       "      <td>4869f7a5dfa277a7dca6462dcf3b52b2</td>\n",
       "      <td>2018-05-23 00:31:14</td>\n",
       "      <td>127.00</td>\n",
       "      <td>17.80</td>\n",
       "      <td>127</td>\n",
       "    </tr>\n",
       "    <tr>\n",
       "      <th>1630</th>\n",
       "      <td>03be2f620301ed720f761e04f00270d4</td>\n",
       "      <td>1</td>\n",
       "      <td>e0d64dcfaa3b6db5c54ca298ae101d05</td>\n",
       "      <td>7d13fca15225358621be4086e1eb0964</td>\n",
       "      <td>2018-06-15 12:35:12</td>\n",
       "      <td>144.00</td>\n",
       "      <td>14.37</td>\n",
       "      <td>144</td>\n",
       "    </tr>\n",
       "    <tr>\n",
       "      <th>1911</th>\n",
       "      <td>045797b656bf633566b0bcff412442a3</td>\n",
       "      <td>1</td>\n",
       "      <td>e0d64dcfaa3b6db5c54ca298ae101d05</td>\n",
       "      <td>4869f7a5dfa277a7dca6462dcf3b52b2</td>\n",
       "      <td>2017-12-07 11:30:59</td>\n",
       "      <td>170.00</td>\n",
       "      <td>21.68</td>\n",
       "      <td>170</td>\n",
       "    </tr>\n",
       "    <tr>\n",
       "      <th>2257</th>\n",
       "      <td>0527142b56f235b4936a8573f33b020b</td>\n",
       "      <td>1</td>\n",
       "      <td>e0d64dcfaa3b6db5c54ca298ae101d05</td>\n",
       "      <td>4869f7a5dfa277a7dca6462dcf3b52b2</td>\n",
       "      <td>2017-07-25 03:50:23</td>\n",
       "      <td>189.99</td>\n",
       "      <td>16.08</td>\n",
       "      <td>189</td>\n",
       "    </tr>\n",
       "  </tbody>\n",
       "</table>\n",
       "</div>"
      ],
      "text/plain": [
       "                              order_id  order_item_id  \\\n",
       "276   00b2d2f2b5f7b98e6b1828764660134e              1   \n",
       "1555  03953c6f8f398530d8847bf6000ffa78              1   \n",
       "1630  03be2f620301ed720f761e04f00270d4              1   \n",
       "1911  045797b656bf633566b0bcff412442a3              1   \n",
       "2257  0527142b56f235b4936a8573f33b020b              1   \n",
       "\n",
       "                            product_id                         seller_id  \\\n",
       "276   e0d64dcfaa3b6db5c54ca298ae101d05  7d13fca15225358621be4086e1eb0964   \n",
       "1555  e0d64dcfaa3b6db5c54ca298ae101d05  4869f7a5dfa277a7dca6462dcf3b52b2   \n",
       "1630  e0d64dcfaa3b6db5c54ca298ae101d05  7d13fca15225358621be4086e1eb0964   \n",
       "1911  e0d64dcfaa3b6db5c54ca298ae101d05  4869f7a5dfa277a7dca6462dcf3b52b2   \n",
       "2257  e0d64dcfaa3b6db5c54ca298ae101d05  4869f7a5dfa277a7dca6462dcf3b52b2   \n",
       "\n",
       "      shipping_limit_date   price  freight_value  price_int  \n",
       "276   2018-08-20 08:50:19  146.01          13.68        146  \n",
       "1555  2018-05-23 00:31:14  127.00          17.80        127  \n",
       "1630  2018-06-15 12:35:12  144.00          14.37        144  \n",
       "1911  2017-12-07 11:30:59  170.00          21.68        170  \n",
       "2257  2017-07-25 03:50:23  189.99          16.08        189  "
      ]
     },
     "execution_count": 67,
     "metadata": {},
     "output_type": "execute_result"
    }
   ],
   "source": [
    "df.head()"
   ]
  },
  {
   "cell_type": "markdown",
   "id": "ca6f3278-c254-4553-911f-d680caf43e44",
   "metadata": {},
   "source": [
    "small number of sells"
   ]
  },
  {
   "cell_type": "code",
   "execution_count": 71,
   "id": "bebd9139-bf56-410c-823b-58d7d8ea3206",
   "metadata": {
    "execution": {
     "iopub.execute_input": "2022-03-31T18:53:07.022843Z",
     "iopub.status.busy": "2022-03-31T18:53:07.022604Z",
     "iopub.status.idle": "2022-03-31T18:53:07.212793Z",
     "shell.execute_reply": "2022-03-31T18:53:07.211761Z",
     "shell.execute_reply.started": "2022-03-31T18:53:07.022818Z"
    },
    "tags": []
   },
   "outputs": [
    {
     "data": {
      "text/plain": [
       "<AxesSubplot:>"
      ]
     },
     "execution_count": 71,
     "metadata": {},
     "output_type": "execute_result"
    },
    {
     "data": {
      "image/png": "[encoded data removed]",
      "text/plain": [
       "<Figure size 432x288 with 1 Axes>"
      ]
     },
     "metadata": {
      "needs_background": "light"
     },
     "output_type": "display_data"
    }
   ],
   "source": [
    "df.price.hist(bins=30)"
   ]
  },
  {
   "cell_type": "code",
   "execution_count": 73,
   "id": "3bc9b721-fb83-4354-a3e2-8dc42997720f",
   "metadata": {
    "execution": {
     "iopub.execute_input": "2022-03-31T18:54:34.528165Z",
     "iopub.status.busy": "2022-03-31T18:54:34.527613Z",
     "iopub.status.idle": "2022-03-31T18:54:34.563614Z",
     "shell.execute_reply": "2022-03-31T18:54:34.562607Z",
     "shell.execute_reply.started": "2022-03-31T18:54:34.528136Z"
    }
   },
   "outputs": [
    {
     "data": {
      "text/plain": [
       "151.90    30\n",
       "179.90    22\n",
       "170.00    21\n",
       "124.90    18\n",
       "158.00    14\n",
       "144.00    14\n",
       "146.01     6\n",
       "134.90     6\n",
       "185.00     6\n",
       "255.61     5\n",
       "145.00     5\n",
       "199.00     5\n",
       "189.99     5\n",
       "149.90     4\n",
       "155.00     4\n",
       "148.99     4\n",
       "231.27     3\n",
       "127.00     3\n",
       "239.99     3\n",
       "155.55     3\n",
       "165.00     3\n",
       "142.00     2\n",
       "128.90     2\n",
       "249.80     2\n",
       "235.99     2\n",
       "209.99     1\n",
       "187.00     1\n",
       "Name: price, dtype: int64"
      ]
     },
     "execution_count": 73,
     "metadata": {},
     "output_type": "execute_result"
    }
   ],
   "source": [
    "df['price'].value_counts()"
   ]
  },
  {
   "cell_type": "markdown",
   "id": "fa5d5d18-dd23-4242-ab85-c5c6a741c94f",
   "metadata": {},
   "source": [
    "seems ok"
   ]
  },
  {
   "cell_type": "markdown",
   "id": "1818fb03-18e3-458f-bb24-5ebd7e69eb2c",
   "metadata": {},
   "source": [
    "maybe can try to find products by gmv"
   ]
  },
  {
   "cell_type": "markdown",
   "id": "831bf394-a645-4279-b3ad-cf554482cd8e",
   "metadata": {},
   "source": [
    "need to estimate conversion\n",
    "\n",
    "-> find number of customers at each day"
   ]
  },
  {
   "cell_type": "code",
   "execution_count": 79,
   "id": "e70ff5bd-9898-4949-ab83-0fabf25339ba",
   "metadata": {
    "execution": {
     "iopub.execute_input": "2022-03-31T18:55:40.526303Z",
     "iopub.status.busy": "2022-03-31T18:55:40.526075Z",
     "iopub.status.idle": "2022-03-31T18:55:40.558859Z",
     "shell.execute_reply": "2022-03-31T18:55:40.558192Z",
     "shell.execute_reply.started": "2022-03-31T18:55:40.526280Z"
    }
   },
   "outputs": [
    {
     "data": {
      "text/html": [
       "<div>\n",
       "<style scoped>\n",
       "    .dataframe tbody tr th:only-of-type {\n",
       "        vertical-align: middle;\n",
       "    }\n",
       "\n",
       "    .dataframe tbody tr th {\n",
       "        vertical-align: top;\n",
       "    }\n",
       "\n",
       "    .dataframe thead th {\n",
       "        text-align: right;\n",
       "    }\n",
       "</style>\n",
       "<table border=\"1\" class=\"dataframe\">\n",
       "  <thead>\n",
       "    <tr style=\"text-align: right;\">\n",
       "      <th></th>\n",
       "      <th>order_id</th>\n",
       "      <th>customer_id</th>\n",
       "      <th>order_status</th>\n",
       "      <th>order_purchase_timestamp</th>\n",
       "      <th>order_approved_at</th>\n",
       "      <th>order_delivered_carrier_date</th>\n",
       "      <th>order_delivered_customer_date</th>\n",
       "      <th>order_estimated_delivery_date</th>\n",
       "    </tr>\n",
       "  </thead>\n",
       "  <tbody>\n",
       "    <tr>\n",
       "      <th>0</th>\n",
       "      <td>e481f51cbdc54678b7cc49136f2d6af7</td>\n",
       "      <td>9ef432eb6251297304e76186b10a928d</td>\n",
       "      <td>delivered</td>\n",
       "      <td>2017-10-02 10:56:33</td>\n",
       "      <td>2017-10-02 11:07:15</td>\n",
       "      <td>2017-10-04 19:55:00</td>\n",
       "      <td>2017-10-10 21:25:13</td>\n",
       "      <td>2017-10-18 00:00:00</td>\n",
       "    </tr>\n",
       "    <tr>\n",
       "      <th>1</th>\n",
       "      <td>53cdb2fc8bc7dce0b6741e2150273451</td>\n",
       "      <td>b0830fb4747a6c6d20dea0b8c802d7ef</td>\n",
       "      <td>delivered</td>\n",
       "      <td>2018-07-24 20:41:37</td>\n",
       "      <td>2018-07-26 03:24:27</td>\n",
       "      <td>2018-07-26 14:31:00</td>\n",
       "      <td>2018-08-07 15:27:45</td>\n",
       "      <td>2018-08-13 00:00:00</td>\n",
       "    </tr>\n",
       "    <tr>\n",
       "      <th>2</th>\n",
       "      <td>47770eb9100c2d0c44946d9cf07ec65d</td>\n",
       "      <td>41ce2a54c0b03bf3443c3d931a367089</td>\n",
       "      <td>delivered</td>\n",
       "      <td>2018-08-08 08:38:49</td>\n",
       "      <td>2018-08-08 08:55:23</td>\n",
       "      <td>2018-08-08 13:50:00</td>\n",
       "      <td>2018-08-17 18:06:29</td>\n",
       "      <td>2018-09-04 00:00:00</td>\n",
       "    </tr>\n",
       "    <tr>\n",
       "      <th>3</th>\n",
       "      <td>949d5b44dbf5de918fe9c16f97b45f8a</td>\n",
       "      <td>f88197465ea7920adcdbec7375364d82</td>\n",
       "      <td>delivered</td>\n",
       "      <td>2017-11-18 19:28:06</td>\n",
       "      <td>2017-11-18 19:45:59</td>\n",
       "      <td>2017-11-22 13:39:59</td>\n",
       "      <td>2017-12-02 00:28:42</td>\n",
       "      <td>2017-12-15 00:00:00</td>\n",
       "    </tr>\n",
       "    <tr>\n",
       "      <th>4</th>\n",
       "      <td>ad21c59c0840e6cb83a9ceb5573f8159</td>\n",
       "      <td>8ab97904e6daea8866dbdbc4fb7aad2c</td>\n",
       "      <td>delivered</td>\n",
       "      <td>2018-02-13 21:18:39</td>\n",
       "      <td>2018-02-13 22:20:29</td>\n",
       "      <td>2018-02-14 19:46:34</td>\n",
       "      <td>2018-02-16 18:17:02</td>\n",
       "      <td>2018-02-26 00:00:00</td>\n",
       "    </tr>\n",
       "  </tbody>\n",
       "</table>\n",
       "</div>"
      ],
      "text/plain": [
       "                           order_id                       customer_id  \\\n",
       "0  e481f51cbdc54678b7cc49136f2d6af7  9ef432eb6251297304e76186b10a928d   \n",
       "1  53cdb2fc8bc7dce0b6741e2150273451  b0830fb4747a6c6d20dea0b8c802d7ef   \n",
       "2  47770eb9100c2d0c44946d9cf07ec65d  41ce2a54c0b03bf3443c3d931a367089   \n",
       "3  949d5b44dbf5de918fe9c16f97b45f8a  f88197465ea7920adcdbec7375364d82   \n",
       "4  ad21c59c0840e6cb83a9ceb5573f8159  8ab97904e6daea8866dbdbc4fb7aad2c   \n",
       "\n",
       "  order_status order_purchase_timestamp    order_approved_at  \\\n",
       "0    delivered      2017-10-02 10:56:33  2017-10-02 11:07:15   \n",
       "1    delivered      2018-07-24 20:41:37  2018-07-26 03:24:27   \n",
       "2    delivered      2018-08-08 08:38:49  2018-08-08 08:55:23   \n",
       "3    delivered      2017-11-18 19:28:06  2017-11-18 19:45:59   \n",
       "4    delivered      2018-02-13 21:18:39  2018-02-13 22:20:29   \n",
       "\n",
       "  order_delivered_carrier_date order_delivered_customer_date  \\\n",
       "0          2017-10-04 19:55:00           2017-10-10 21:25:13   \n",
       "1          2018-07-26 14:31:00           2018-08-07 15:27:45   \n",
       "2          2018-08-08 13:50:00           2018-08-17 18:06:29   \n",
       "3          2017-11-22 13:39:59           2017-12-02 00:28:42   \n",
       "4          2018-02-14 19:46:34           2018-02-16 18:17:02   \n",
       "\n",
       "  order_estimated_delivery_date  \n",
       "0           2017-10-18 00:00:00  \n",
       "1           2018-08-13 00:00:00  \n",
       "2           2018-09-04 00:00:00  \n",
       "3           2017-12-15 00:00:00  \n",
       "4           2018-02-26 00:00:00  "
      ]
     },
     "execution_count": 79,
     "metadata": {},
     "output_type": "execute_result"
    }
   ],
   "source": [
    "orders.head()"
   ]
  },
  {
   "cell_type": "code",
   "execution_count": 85,
   "id": "ea17671a-f394-4b19-bec5-a18f2a9a3de6",
   "metadata": {
    "execution": {
     "iopub.execute_input": "2022-03-31T18:56:50.179010Z",
     "iopub.status.busy": "2022-03-31T18:56:50.178771Z",
     "iopub.status.idle": "2022-03-31T18:56:50.248416Z",
     "shell.execute_reply": "2022-03-31T18:56:50.247887Z",
     "shell.execute_reply.started": "2022-03-31T18:56:50.178984Z"
    },
    "tags": []
   },
   "outputs": [],
   "source": [
    "orders['order_purchase_timestamp'] = orders['order_purchase_timestamp'].astype('datetime64[ns]')\n",
    "orders['date'] = orders['order_purchase_timestamp'].dt.date.astype('datetime64[ns]')"
   ]
  },
  {
   "cell_type": "code",
   "execution_count": 100,
   "id": "92416b7d-04bf-4648-81e2-c8b2fa68f4a3",
   "metadata": {
    "execution": {
     "iopub.execute_input": "2022-03-31T18:58:19.535950Z",
     "iopub.status.busy": "2022-03-31T18:58:19.535648Z",
     "iopub.status.idle": "2022-03-31T18:58:19.670971Z",
     "shell.execute_reply": "2022-03-31T18:58:19.670451Z",
     "shell.execute_reply.started": "2022-03-31T18:58:19.535925Z"
    },
    "tags": []
   },
   "outputs": [
    {
     "name": "stdout",
     "output_type": "stream",
     "text": [
      "<class 'pandas.core.frame.DataFrame'>\n",
      "RangeIndex: 99441 entries, 0 to 99440\n",
      "Data columns (total 9 columns):\n",
      " #   Column                         Non-Null Count  Dtype         \n",
      "---  ------                         --------------  -----         \n",
      " 0   order_id                       99441 non-null  object        \n",
      " 1   customer_id                    99441 non-null  object        \n",
      " 2   order_status                   99441 non-null  object        \n",
      " 3   order_purchase_timestamp       99441 non-null  datetime64[ns]\n",
      " 4   order_approved_at              99281 non-null  object        \n",
      " 5   order_delivered_carrier_date   97658 non-null  object        \n",
      " 6   order_delivered_customer_date  96476 non-null  object        \n",
      " 7   order_estimated_delivery_date  99441 non-null  object        \n",
      " 8   date                           99441 non-null  datetime64[ns]\n",
      "dtypes: datetime64[ns](2), object(7)\n",
      "memory usage: 6.8+ MB\n"
     ]
    }
   ],
   "source": [
    "orders.info()"
   ]
  },
  {
   "cell_type": "code",
   "execution_count": 110,
   "id": "941e0d8c-9f21-4165-9da9-bc6bc91106ef",
   "metadata": {
    "execution": {
     "iopub.execute_input": "2022-03-31T18:59:51.127283Z",
     "iopub.status.busy": "2022-03-31T18:59:51.127060Z",
     "iopub.status.idle": "2022-03-31T18:59:51.348785Z",
     "shell.execute_reply": "2022-03-31T18:59:51.348053Z",
     "shell.execute_reply.started": "2022-03-31T18:59:51.127262Z"
    },
    "tags": []
   },
   "outputs": [
    {
     "data": {
      "text/plain": [
       "<AxesSubplot:xlabel='date', ylabel='count'>"
      ]
     },
     "execution_count": 110,
     "metadata": {},
     "output_type": "execute_result"
    },
    {
     "data": {
      "image/png": "[encoded data removed]",
      "text/plain": [
       "<Figure size 864x432 with 1 Axes>"
      ]
     },
     "metadata": {
      "needs_background": "light"
     },
     "output_type": "display_data"
    }
   ],
   "source": [
    "fig, axs = plt.subplots(figsize=(12, 6))\n",
    "date_to_num_orders = orders.groupby('date').size().reset_index().rename(columns={0: 'count'})\n",
    "sns.lineplot(x='date', y='count', data=date_to_num_orders)"
   ]
  },
  {
   "cell_type": "markdown",
   "id": "28c01b8b-bc61-44ee-b3cb-7bcd6506fce4",
   "metadata": {},
   "source": [
    "conclusion -> take data from  2017.02 to 2018.09"
   ]
  },
  {
   "cell_type": "code",
   "execution_count": 121,
   "id": "34c2421e-d700-4bbf-aaa5-bb6c0ee46a5c",
   "metadata": {
    "execution": {
     "iopub.execute_input": "2022-03-31T19:02:07.054914Z",
     "iopub.status.busy": "2022-03-31T19:02:07.054640Z",
     "iopub.status.idle": "2022-03-31T19:02:07.088972Z",
     "shell.execute_reply": "2022-03-31T19:02:07.088257Z",
     "shell.execute_reply.started": "2022-03-31T19:02:07.054885Z"
    },
    "tags": []
   },
   "outputs": [],
   "source": [
    "mask = (\n",
    "    (orders['date'] >= '2017-03-01') &\n",
    "    (orders['date'] < '2017-09-01')\n",
    ")\n",
    "orders = orders[mask]"
   ]
  },
  {
   "cell_type": "code",
   "execution_count": 122,
   "id": "290199b4-195b-43f0-b233-40332a72ba3f",
   "metadata": {
    "execution": {
     "iopub.execute_input": "2022-03-31T19:02:10.459434Z",
     "iopub.status.busy": "2022-03-31T19:02:10.459155Z",
     "iopub.status.idle": "2022-03-31T19:02:10.665031Z",
     "shell.execute_reply": "2022-03-31T19:02:10.664456Z",
     "shell.execute_reply.started": "2022-03-31T19:02:10.459407Z"
    }
   },
   "outputs": [
    {
     "data": {
      "text/plain": [
       "<AxesSubplot:xlabel='date', ylabel='count'>"
      ]
     },
     "execution_count": 122,
     "metadata": {},
     "output_type": "execute_result"
    },
    {
     "data": {
      "image/png": "[encoded data removed]",
      "text/plain": [
       "<Figure size 864x432 with 1 Axes>"
      ]
     },
     "metadata": {
      "needs_background": "light"
     },
     "output_type": "display_data"
    }
   ],
   "source": [
    "fig, axs = plt.subplots(figsize=(12, 6))\n",
    "date_to_num_orders = orders.groupby('date').size().reset_index().rename(columns={0: 'count'})\n",
    "sns.lineplot(x='date', y='count', data=date_to_num_orders)"
   ]
  },
  {
   "cell_type": "markdown",
   "id": "b6811d9e-e4ea-4bb9-983f-af5f6c257ec1",
   "metadata": {},
   "source": [
    "definitely seasonal"
   ]
  },
  {
   "cell_type": "code",
   "execution_count": 125,
   "id": "c3bc4094-5bde-45cc-b803-733f402d8fa2",
   "metadata": {
    "execution": {
     "iopub.execute_input": "2022-03-31T19:02:47.293766Z",
     "iopub.status.busy": "2022-03-31T19:02:47.293482Z",
     "iopub.status.idle": "2022-03-31T19:02:47.326871Z",
     "shell.execute_reply": "2022-03-31T19:02:47.326002Z",
     "shell.execute_reply.started": "2022-03-31T19:02:47.293738Z"
    }
   },
   "outputs": [],
   "source": [
    "date_to_num_orders['wd'] = date_to_num_orders.date.dt.weekday"
   ]
  },
  {
   "cell_type": "code",
   "execution_count": 127,
   "id": "8b2cfa84-a1a1-4671-877d-90fdd35fdf96",
   "metadata": {
    "execution": {
     "iopub.execute_input": "2022-03-31T19:03:08.068076Z",
     "iopub.status.busy": "2022-03-31T19:03:08.067882Z",
     "iopub.status.idle": "2022-03-31T19:03:08.102233Z",
     "shell.execute_reply": "2022-03-31T19:03:08.101212Z",
     "shell.execute_reply.started": "2022-03-31T19:03:08.068057Z"
    }
   },
   "outputs": [
    {
     "data": {
      "text/html": [
       "<div>\n",
       "<style scoped>\n",
       "    .dataframe tbody tr th:only-of-type {\n",
       "        vertical-align: middle;\n",
       "    }\n",
       "\n",
       "    .dataframe tbody tr th {\n",
       "        vertical-align: top;\n",
       "    }\n",
       "\n",
       "    .dataframe thead th {\n",
       "        text-align: right;\n",
       "    }\n",
       "</style>\n",
       "<table border=\"1\" class=\"dataframe\">\n",
       "  <thead>\n",
       "    <tr style=\"text-align: right;\">\n",
       "      <th></th>\n",
       "      <th>date</th>\n",
       "      <th>count</th>\n",
       "      <th>wd</th>\n",
       "    </tr>\n",
       "  </thead>\n",
       "  <tbody>\n",
       "    <tr>\n",
       "      <th>0</th>\n",
       "      <td>2017-03-01</td>\n",
       "      <td>99</td>\n",
       "      <td>2</td>\n",
       "    </tr>\n",
       "    <tr>\n",
       "      <th>1</th>\n",
       "      <td>2017-03-02</td>\n",
       "      <td>72</td>\n",
       "      <td>3</td>\n",
       "    </tr>\n",
       "    <tr>\n",
       "      <th>2</th>\n",
       "      <td>2017-03-03</td>\n",
       "      <td>74</td>\n",
       "      <td>4</td>\n",
       "    </tr>\n",
       "    <tr>\n",
       "      <th>3</th>\n",
       "      <td>2017-03-04</td>\n",
       "      <td>80</td>\n",
       "      <td>5</td>\n",
       "    </tr>\n",
       "    <tr>\n",
       "      <th>4</th>\n",
       "      <td>2017-03-05</td>\n",
       "      <td>74</td>\n",
       "      <td>6</td>\n",
       "    </tr>\n",
       "    <tr>\n",
       "      <th>...</th>\n",
       "      <td>...</td>\n",
       "      <td>...</td>\n",
       "      <td>...</td>\n",
       "    </tr>\n",
       "    <tr>\n",
       "      <th>179</th>\n",
       "      <td>2017-08-27</td>\n",
       "      <td>119</td>\n",
       "      <td>6</td>\n",
       "    </tr>\n",
       "    <tr>\n",
       "      <th>180</th>\n",
       "      <td>2017-08-28</td>\n",
       "      <td>155</td>\n",
       "      <td>0</td>\n",
       "    </tr>\n",
       "    <tr>\n",
       "      <th>181</th>\n",
       "      <td>2017-08-29</td>\n",
       "      <td>137</td>\n",
       "      <td>1</td>\n",
       "    </tr>\n",
       "    <tr>\n",
       "      <th>182</th>\n",
       "      <td>2017-08-30</td>\n",
       "      <td>181</td>\n",
       "      <td>2</td>\n",
       "    </tr>\n",
       "    <tr>\n",
       "      <th>183</th>\n",
       "      <td>2017-08-31</td>\n",
       "      <td>149</td>\n",
       "      <td>3</td>\n",
       "    </tr>\n",
       "  </tbody>\n",
       "</table>\n",
       "<p>184 rows × 3 columns</p>\n",
       "</div>"
      ],
      "text/plain": [
       "          date  count  wd\n",
       "0   2017-03-01     99   2\n",
       "1   2017-03-02     72   3\n",
       "2   2017-03-03     74   4\n",
       "3   2017-03-04     80   5\n",
       "4   2017-03-05     74   6\n",
       "..         ...    ...  ..\n",
       "179 2017-08-27    119   6\n",
       "180 2017-08-28    155   0\n",
       "181 2017-08-29    137   1\n",
       "182 2017-08-30    181   2\n",
       "183 2017-08-31    149   3\n",
       "\n",
       "[184 rows x 3 columns]"
      ]
     },
     "execution_count": 127,
     "metadata": {},
     "output_type": "execute_result"
    }
   ],
   "source": [
    "date_to_num_orders"
   ]
  },
  {
   "cell_type": "markdown",
   "id": "c6572079-7c84-41db-b73d-3ed0f2d44bd3",
   "metadata": {},
   "source": [
    "find product sales"
   ]
  },
  {
   "cell_type": "code",
   "execution_count": 144,
   "id": "aca0e84f-f52a-49f4-83a3-5896695d5cd5",
   "metadata": {
    "execution": {
     "iopub.execute_input": "2022-03-31T19:08:45.573199Z",
     "iopub.status.busy": "2022-03-31T19:08:45.572897Z",
     "iopub.status.idle": "2022-03-31T19:08:45.672593Z",
     "shell.execute_reply": "2022-03-31T19:08:45.671775Z",
     "shell.execute_reply.started": "2022-03-31T19:08:45.573166Z"
    },
    "tags": []
   },
   "outputs": [],
   "source": [
    "product_revenue = order_items.groupby('product_id').price.sum().sort_values(ascending=False).reset_index()\n",
    "product_prices = order_items.groupby(['product_id']).price_int.nunique().sort_values(ascending=False)\n",
    "product_revenue = product_revenue.rename(columns={'price': 'revenue'})\n",
    "products = product_revenue.merge(product_prices, on='product_id')"
   ]
  },
  {
   "cell_type": "code",
   "execution_count": 149,
   "id": "ddae84e3-3d77-4232-9a64-3655f971fc84",
   "metadata": {
    "execution": {
     "iopub.execute_input": "2022-03-31T19:11:02.760381Z",
     "iopub.status.busy": "2022-03-31T19:11:02.760160Z",
     "iopub.status.idle": "2022-03-31T19:11:02.790277Z",
     "shell.execute_reply": "2022-03-31T19:11:02.789567Z",
     "shell.execute_reply.started": "2022-03-31T19:11:02.760360Z"
    },
    "tags": []
   },
   "outputs": [],
   "source": [
    "products['revenue_pct_cum'] = products['revenue'].cumsum() / products['revenue'].sum()"
   ]
  },
  {
   "cell_type": "code",
   "execution_count": 153,
   "id": "b51611cb-3e6e-4a0e-b53b-381cba290840",
   "metadata": {
    "execution": {
     "iopub.execute_input": "2022-03-31T19:11:46.928519Z",
     "iopub.status.busy": "2022-03-31T19:11:46.928200Z",
     "iopub.status.idle": "2022-03-31T19:11:47.068719Z",
     "shell.execute_reply": "2022-03-31T19:11:47.068072Z",
     "shell.execute_reply.started": "2022-03-31T19:11:46.928483Z"
    },
    "tags": []
   },
   "outputs": [
    {
     "data": {
      "image/png": "[encoded data removed]",
      "text/plain": [
       "<Figure size 432x288 with 1 Axes>"
      ]
     },
     "metadata": {
      "needs_background": "light"
     },
     "output_type": "display_data"
    }
   ],
   "source": [
    "plt.plot(products['revenue_pct_cum']);"
   ]
  },
  {
   "cell_type": "markdown",
   "id": "136e86ed-954d-4617-8dc7-89451a1eb9f5",
   "metadata": {},
   "source": [
    "filter non popular products"
   ]
  },
  {
   "cell_type": "code",
   "execution_count": 155,
   "id": "b3c248cc-de99-4f46-8760-b8775353d81e",
   "metadata": {
    "execution": {
     "iopub.execute_input": "2022-03-31T19:12:49.910464Z",
     "iopub.status.busy": "2022-03-31T19:12:49.910148Z",
     "iopub.status.idle": "2022-03-31T19:12:49.941887Z",
     "shell.execute_reply": "2022-03-31T19:12:49.941097Z",
     "shell.execute_reply.started": "2022-03-31T19:12:49.910426Z"
    }
   },
   "outputs": [],
   "source": [
    "revenue_pct_threshold = 0.6"
   ]
  },
  {
   "cell_type": "code",
   "execution_count": 156,
   "id": "67d52575-0159-468e-9d85-702761da9d67",
   "metadata": {
    "execution": {
     "iopub.execute_input": "2022-03-31T19:12:57.080269Z",
     "iopub.status.busy": "2022-03-31T19:12:57.080039Z",
     "iopub.status.idle": "2022-03-31T19:12:57.106627Z",
     "shell.execute_reply": "2022-03-31T19:12:57.106032Z",
     "shell.execute_reply.started": "2022-03-31T19:12:57.080248Z"
    },
    "tags": []
   },
   "outputs": [],
   "source": [
    "products = products[products['revenue_pct_cum'] < revenue_pct_threshold]"
   ]
  },
  {
   "cell_type": "code",
   "execution_count": 161,
   "id": "e4fb2543-3bc5-4b17-bb61-7d2fbb7c68ef",
   "metadata": {
    "execution": {
     "iopub.execute_input": "2022-03-31T19:13:34.904778Z",
     "iopub.status.busy": "2022-03-31T19:13:34.904472Z",
     "iopub.status.idle": "2022-03-31T19:13:34.936987Z",
     "shell.execute_reply": "2022-03-31T19:13:34.936346Z",
     "shell.execute_reply.started": "2022-03-31T19:13:34.904751Z"
    },
    "tags": []
   },
   "outputs": [],
   "source": [
    "products = products.sort_values('price_int', ascending=False)"
   ]
  },
  {
   "cell_type": "code",
   "execution_count": 164,
   "id": "29a54ee1-363b-4d0e-8606-0cd7bcf059dd",
   "metadata": {
    "execution": {
     "iopub.execute_input": "2022-03-31T19:14:07.320677Z",
     "iopub.status.busy": "2022-03-31T19:14:07.320410Z",
     "iopub.status.idle": "2022-03-31T19:14:07.352766Z",
     "shell.execute_reply": "2022-03-31T19:14:07.351874Z",
     "shell.execute_reply.started": "2022-03-31T19:14:07.320652Z"
    },
    "tags": []
   },
   "outputs": [
    {
     "data": {
      "text/html": [
       "<div>\n",
       "<style scoped>\n",
       "    .dataframe tbody tr th:only-of-type {\n",
       "        vertical-align: middle;\n",
       "    }\n",
       "\n",
       "    .dataframe tbody tr th {\n",
       "        vertical-align: top;\n",
       "    }\n",
       "\n",
       "    .dataframe thead th {\n",
       "        text-align: right;\n",
       "    }\n",
       "</style>\n",
       "<table border=\"1\" class=\"dataframe\">\n",
       "  <thead>\n",
       "    <tr style=\"text-align: right;\">\n",
       "      <th></th>\n",
       "      <th>product_id</th>\n",
       "      <th>revenue</th>\n",
       "      <th>price_int</th>\n",
       "      <th>revenue_pct_cum</th>\n",
       "    </tr>\n",
       "  </thead>\n",
       "  <tbody>\n",
       "    <tr>\n",
       "      <th>10</th>\n",
       "      <td>e0d64dcfaa3b6db5c54ca298ae101d05</td>\n",
       "      <td>31786.82</td>\n",
       "      <td>26</td>\n",
       "      <td>0.035504</td>\n",
       "    </tr>\n",
       "    <tr>\n",
       "      <th>11</th>\n",
       "      <td>d285360f29ac7fd97640bf0baef03de0</td>\n",
       "      <td>31623.81</td>\n",
       "      <td>24</td>\n",
       "      <td>0.037831</td>\n",
       "    </tr>\n",
       "    <tr>\n",
       "      <th>191</th>\n",
       "      <td>69455f41626a745aea9ee9164cb9eafd</td>\n",
       "      <td>6652.48</td>\n",
       "      <td>21</td>\n",
       "      <td>0.188204</td>\n",
       "    </tr>\n",
       "    <tr>\n",
       "      <th>30</th>\n",
       "      <td>6f3b5b605d91b7439c5e3f5a8dffeea7</td>\n",
       "      <td>19009.40</td>\n",
       "      <td>21</td>\n",
       "      <td>0.070835</td>\n",
       "    </tr>\n",
       "    <tr>\n",
       "      <th>8</th>\n",
       "      <td>53b36df67ebb7c41585e8d54d6772e08</td>\n",
       "      <td>37683.42</td>\n",
       "      <td>20</td>\n",
       "      <td>0.030398</td>\n",
       "    </tr>\n",
       "    <tr>\n",
       "      <th>26</th>\n",
       "      <td>461f43be3bdf8844e65b62d9ac2c7a5a</td>\n",
       "      <td>20593.22</td>\n",
       "      <td>18</td>\n",
       "      <td>0.064959</td>\n",
       "    </tr>\n",
       "    <tr>\n",
       "      <th>14</th>\n",
       "      <td>f819f0c84a64f02d3a5606ca95edd272</td>\n",
       "      <td>29024.48</td>\n",
       "      <td>17</td>\n",
       "      <td>0.044415</td>\n",
       "    </tr>\n",
       "    <tr>\n",
       "      <th>65</th>\n",
       "      <td>656e0eca68dcecf6a31b8ececfabe3e8</td>\n",
       "      <td>12477.60</td>\n",
       "      <td>16</td>\n",
       "      <td>0.107998</td>\n",
       "    </tr>\n",
       "    <tr>\n",
       "      <th>64</th>\n",
       "      <td>4298b7e67dc399c200662b569563a2b2</td>\n",
       "      <td>12479.70</td>\n",
       "      <td>15</td>\n",
       "      <td>0.107080</td>\n",
       "    </tr>\n",
       "    <tr>\n",
       "      <th>37</th>\n",
       "      <td>e53e557d5a159f5aa2c5e995dfdf244b</td>\n",
       "      <td>15439.25</td>\n",
       "      <td>15</td>\n",
       "      <td>0.079601</td>\n",
       "    </tr>\n",
       "  </tbody>\n",
       "</table>\n",
       "</div>"
      ],
      "text/plain": [
       "                           product_id   revenue  price_int  revenue_pct_cum\n",
       "10   e0d64dcfaa3b6db5c54ca298ae101d05  31786.82         26         0.035504\n",
       "11   d285360f29ac7fd97640bf0baef03de0  31623.81         24         0.037831\n",
       "191  69455f41626a745aea9ee9164cb9eafd   6652.48         21         0.188204\n",
       "30   6f3b5b605d91b7439c5e3f5a8dffeea7  19009.40         21         0.070835\n",
       "8    53b36df67ebb7c41585e8d54d6772e08  37683.42         20         0.030398\n",
       "26   461f43be3bdf8844e65b62d9ac2c7a5a  20593.22         18         0.064959\n",
       "14   f819f0c84a64f02d3a5606ca95edd272  29024.48         17         0.044415\n",
       "65   656e0eca68dcecf6a31b8ececfabe3e8  12477.60         16         0.107998\n",
       "64   4298b7e67dc399c200662b569563a2b2  12479.70         15         0.107080\n",
       "37   e53e557d5a159f5aa2c5e995dfdf244b  15439.25         15         0.079601"
      ]
     },
     "execution_count": 164,
     "metadata": {},
     "output_type": "execute_result"
    }
   ],
   "source": [
    "products[:10]"
   ]
  },
  {
   "cell_type": "markdown",
   "id": "d75613b9-7681-41b2-bc38-5e416ddabcf3",
   "metadata": {},
   "source": [
    "first 10 products will probably be enough\n",
    "\n",
    "- all of them are top products by revenue\n",
    "- they have a high number of different prices"
   ]
  },
  {
   "cell_type": "code",
   "execution_count": 191,
   "id": "fec97f00-b4fc-4229-b107-33fa1be131a6",
   "metadata": {
    "execution": {
     "iopub.execute_input": "2022-03-31T19:31:05.993471Z",
     "iopub.status.busy": "2022-03-31T19:31:05.993187Z",
     "iopub.status.idle": "2022-03-31T19:31:06.026683Z",
     "shell.execute_reply": "2022-03-31T19:31:06.025774Z",
     "shell.execute_reply.started": "2022-03-31T19:31:05.993438Z"
    },
    "tags": []
   },
   "outputs": [],
   "source": [
    "top_product_ids = products[:9].product_id.to_list()"
   ]
  },
  {
   "cell_type": "code",
   "execution_count": 192,
   "id": "a5035a7f-9210-476e-af65-9c5004e1438d",
   "metadata": {
    "execution": {
     "iopub.execute_input": "2022-03-31T19:31:06.989276Z",
     "iopub.status.busy": "2022-03-31T19:31:06.989043Z",
     "iopub.status.idle": "2022-03-31T19:31:07.013588Z",
     "shell.execute_reply": "2022-03-31T19:31:07.012884Z",
     "shell.execute_reply.started": "2022-03-31T19:31:06.989251Z"
    },
    "tags": []
   },
   "outputs": [],
   "source": [
    "pid = top_product_ids[1]"
   ]
  },
  {
   "cell_type": "code",
   "execution_count": 197,
   "id": "500dc184-495e-453b-ab41-ff6502ecdae1",
   "metadata": {
    "execution": {
     "iopub.execute_input": "2022-03-31T19:32:09.069284Z",
     "iopub.status.busy": "2022-03-31T19:32:09.069019Z",
     "iopub.status.idle": "2022-03-31T19:32:10.404814Z",
     "shell.execute_reply": "2022-03-31T19:32:10.403839Z",
     "shell.execute_reply.started": "2022-03-31T19:32:09.069258Z"
    },
    "tags": []
   },
   "outputs": [
    {
     "data": {
      "image/png": "[encoded data removed]",
      "text/plain": [
       "<Figure size 864x864 with 9 Axes>"
      ]
     },
     "metadata": {
      "needs_background": "light"
     },
     "output_type": "display_data"
    }
   ],
   "source": [
    "fig,axs = plt.subplots(figsize=(12, 12))\n",
    "\n",
    "for i, pid in enumerate(top_product_ids):\n",
    "    ax = plt.subplot(4, 3, i+1)\n",
    "    df = order_items[order_items.product_id == pid]\n",
    "    sns.histplot(x='price', data=df, bins=20,ax=ax)\n",
    "    # plt.title(pid);\n",
    "    \n",
    "fig.tight_layout()"
   ]
  },
  {
   "cell_type": "code",
   "execution_count": 198,
   "id": "7ab993a3-fb26-4572-ab37-f441cc22a361",
   "metadata": {
    "execution": {
     "iopub.execute_input": "2022-03-31T19:32:15.386861Z",
     "iopub.status.busy": "2022-03-31T19:32:15.386608Z",
     "iopub.status.idle": "2022-03-31T19:32:16.522222Z",
     "shell.execute_reply": "2022-03-31T19:32:16.521482Z",
     "shell.execute_reply.started": "2022-03-31T19:32:15.386834Z"
    }
   },
   "outputs": [
    {
     "data": {
      "image/png": "[encoded data removed]",
      "text/plain": [
       "<Figure size 864x864 with 9 Axes>"
      ]
     },
     "metadata": {
      "needs_background": "light"
     },
     "output_type": "display_data"
    }
   ],
   "source": [
    "fig,axs = plt.subplots(figsize=(12, 12))\n",
    "\n",
    "for i, pid in enumerate(top_product_ids):\n",
    "    ax = plt.subplot(4, 3, i+1)\n",
    "    df = order_items[order_items.product_id == pid]\n",
    "    sns.histplot(x='price', data=df, bins=7,ax=ax)\n",
    "    # plt.title(pid);\n",
    "    \n",
    "fig.tight_layout()"
   ]
  },
  {
   "cell_type": "code",
   "execution_count": 209,
   "id": "0d8b6f19-ed0b-41c1-aa88-8fc40fe1ee53",
   "metadata": {
    "execution": {
     "iopub.execute_input": "2022-03-31T19:35:41.230478Z",
     "iopub.status.busy": "2022-03-31T19:35:41.230226Z",
     "iopub.status.idle": "2022-03-31T19:35:41.324493Z",
     "shell.execute_reply": "2022-03-31T19:35:41.323893Z",
     "shell.execute_reply.started": "2022-03-31T19:35:41.230452Z"
    },
    "tags": []
   },
   "outputs": [],
   "source": [
    "order_items['shipping_limit_date'] = order_items['shipping_limit_date'].astype('datetime64[ns]')\n",
    "order_items['date'] = order_items['shipping_limit_date'].dt.date.astype('datetime64[ns]')"
   ]
  },
  {
   "cell_type": "code",
   "execution_count": 223,
   "id": "50046982-64c6-4c0d-9c76-71d83db41425",
   "metadata": {
    "execution": {
     "iopub.execute_input": "2022-03-31T19:39:56.237005Z",
     "iopub.status.busy": "2022-03-31T19:39:56.236722Z",
     "iopub.status.idle": "2022-03-31T19:39:56.270478Z",
     "shell.execute_reply": "2022-03-31T19:39:56.269740Z",
     "shell.execute_reply.started": "2022-03-31T19:39:56.236975Z"
    },
    "tags": []
   },
   "outputs": [
    {
     "data": {
      "text/plain": [
       "2017-11-30    1647\n",
       "2017-12-07     752\n",
       "2018-04-19     709\n",
       "2018-05-10     673\n",
       "2018-01-18     661\n",
       "              ... \n",
       "2018-09-13       1\n",
       "2016-10-31       1\n",
       "2020-02-05       1\n",
       "2018-09-18       1\n",
       "2018-09-02       1\n",
       "Name: date, Length: 555, dtype: int64"
      ]
     },
     "execution_count": 223,
     "metadata": {},
     "output_type": "execute_result"
    }
   ],
   "source": [
    "order_items['date'].value_counts()"
   ]
  },
  {
   "cell_type": "code",
   "execution_count": 228,
   "id": "ecdb9e80-de6d-40ed-8e40-437ac397e46e",
   "metadata": {
    "execution": {
     "iopub.execute_input": "2022-03-31T19:40:34.742135Z",
     "iopub.status.busy": "2022-03-31T19:40:34.741824Z",
     "iopub.status.idle": "2022-03-31T19:40:34.779800Z",
     "shell.execute_reply": "2022-03-31T19:40:34.779161Z",
     "shell.execute_reply.started": "2022-03-31T19:40:34.742101Z"
    },
    "tags": []
   },
   "outputs": [],
   "source": [
    "product_counts = order_items[order_items.product_id.isin(top_product_ids)].groupby('product_id').size()\n",
    "product_counts = product_counts[product_counts!=0]"
   ]
  },
  {
   "cell_type": "code",
   "execution_count": 229,
   "id": "f7e8f3ce-c9c5-4a93-91c4-0c612017eef6",
   "metadata": {
    "execution": {
     "iopub.execute_input": "2022-03-31T19:40:35.658743Z",
     "iopub.status.busy": "2022-03-31T19:40:35.658420Z",
     "iopub.status.idle": "2022-03-31T19:40:35.692668Z",
     "shell.execute_reply": "2022-03-31T19:40:35.691629Z",
     "shell.execute_reply.started": "2022-03-31T19:40:35.658708Z"
    }
   },
   "outputs": [
    {
     "data": {
      "text/plain": [
       "product_id\n",
       "4298b7e67dc399c200662b569563a2b2     88\n",
       "461f43be3bdf8844e65b62d9ac2c7a5a    146\n",
       "53b36df67ebb7c41585e8d54d6772e08    323\n",
       "656e0eca68dcecf6a31b8ececfabe3e8    141\n",
       "69455f41626a745aea9ee9164cb9eafd     41\n",
       "6f3b5b605d91b7439c5e3f5a8dffeea7    117\n",
       "d285360f29ac7fd97640bf0baef03de0    123\n",
       "e0d64dcfaa3b6db5c54ca298ae101d05    194\n",
       "f819f0c84a64f02d3a5606ca95edd272     45\n",
       "dtype: int64"
      ]
     },
     "execution_count": 229,
     "metadata": {},
     "output_type": "execute_result"
    }
   ],
   "source": [
    "product_counts"
   ]
  },
  {
   "cell_type": "markdown",
   "id": "1f284cd1-34e2-4ce3-a439-cbdb5ec988c0",
   "metadata": {},
   "source": [
    "each product has around 150/500 days of sales :(\n",
    "\n",
    "might be problematic for conversion rate\n",
    "\n",
    "the problem:\n",
    "- products have intermittent demand"
   ]
  },
  {
   "cell_type": "markdown",
   "id": "8641a33e-cc8d-4be0-bd62-18a0adf0c239",
   "metadata": {
    "tags": []
   },
   "source": [
    "### conclusion"
   ]
  },
  {
   "cell_type": "markdown",
   "id": "82c8620f-9356-4318-854d-98f6810d9ae5",
   "metadata": {},
   "source": [
    "- some products have a big number of price changes\n",
    "- the conversion rates are going to be quite low since products have intermittent demand"
   ]
  }
 ],
 "metadata": {
  "kernelspec": {
   "display_name": "Python 3 (ipykernel)",
   "language": "python",
   "name": "python3"
  },
  "language_info": {
   "codemirror_mode": {
    "name": "ipython",
    "version": 3
   },
   "file_extension": ".py",
   "mimetype": "text/x-python",
   "name": "python",
   "nbconvert_exporter": "python",
   "pygments_lexer": "ipython3",
   "version": "3.9.9"
  }
 },
 "nbformat": 4,
 "nbformat_minor": 5
}
